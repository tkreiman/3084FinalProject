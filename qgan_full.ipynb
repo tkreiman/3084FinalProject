{
 "cells": [
  {
   "cell_type": "code",
   "execution_count": 1,
   "metadata": {},
   "outputs": [
    {
     "name": "stderr",
     "output_type": "stream",
     "text": [
      "/Users/tobykrieman/anaconda/envs/qc-penny/lib/python3.8/site-packages/tqdm/auto.py:22: TqdmWarning: IProgress not found. Please update jupyter and ipywidgets. See https://ipywidgets.readthedocs.io/en/stable/user_install.html\n",
      "  from .autonotebook import tqdm as notebook_tqdm\n"
     ]
    }
   ],
   "source": [
    "# Library imports\n",
    "import math\n",
    "import random\n",
    "import numpy as np\n",
    "import pandas as pd\n",
    "import matplotlib.pyplot as plt\n",
    "import matplotlib.gridspec as gridspec\n",
    "import pennylane as qml\n",
    "\n",
    "# Pytorch imports\n",
    "import torch\n",
    "import torch.nn as nn\n",
    "import torch.optim as optim\n",
    "import torchvision\n",
    "import torchvision.transforms as transforms\n",
    "from torch.utils.data import Dataset, DataLoader\n",
    "\n",
    "# Set the random seed for reproducibility\n",
    "seed = 42\n",
    "torch.manual_seed(seed)\n",
    "np.random.seed(seed)\n",
    "random.seed(seed)"
   ]
  },
  {
   "cell_type": "code",
   "execution_count": 2,
   "metadata": {},
   "outputs": [],
   "source": [
    "# dataloader\n",
    "class DigitsDataset(Dataset):\n",
    "    \"\"\"Pytorch dataloader for the Optical Recognition of Handwritten Digits Data Set\"\"\"\n",
    "\n",
    "    def __init__(self, csv_file, label=0, transform=None):\n",
    "        \"\"\"\n",
    "        Args:\n",
    "            csv_file (string): Path to the csv file with annotations.\n",
    "            root_dir (string): Directory with all the images.\n",
    "            transform (callable, optional): Optional transform to be applied\n",
    "                on a sample.\n",
    "        \"\"\"\n",
    "        self.csv_file = csv_file\n",
    "        self.transform = transform\n",
    "        self.df = self.filter_by_label(label)\n",
    "\n",
    "    def filter_by_label(self, label):\n",
    "        # Use pandas to return a dataframe of only zeros\n",
    "        df = pd.read_csv(self.csv_file)\n",
    "        df = df.loc[df.iloc[:, -1] == label]\n",
    "        return df\n",
    "\n",
    "    def __len__(self):\n",
    "        return len(self.df)\n",
    "\n",
    "    def __getitem__(self, idx):\n",
    "        if torch.is_tensor(idx):\n",
    "            idx = idx.tolist()\n",
    "\n",
    "        image = self.df.iloc[idx, :-1] / 16\n",
    "        image = np.array(image)\n",
    "        image = image.astype(np.float32).reshape(8, 8)\n",
    "\n",
    "        if self.transform:\n",
    "            image = self.transform(image)\n",
    "\n",
    "        # Return image and label\n",
    "        return image, 0"
   ]
  },
  {
   "cell_type": "code",
   "execution_count": 3,
   "metadata": {},
   "outputs": [],
   "source": [
    "image_size = 8  # Height / width of the square images\n",
    "batch_size = 1\n",
    "\n",
    "transform = transforms.Compose([transforms.ToTensor()])\n",
    "dataset = DigitsDataset(csv_file=\"optdigits.tra\", transform=transform, label=0) # working only with 0\n",
    "dataloader = torch.utils.data.DataLoader(\n",
    "    dataset, batch_size=batch_size, shuffle=True, drop_last=True\n",
    ")"
   ]
  },
  {
   "cell_type": "code",
   "execution_count": 70,
   "metadata": {},
   "outputs": [
    {
     "data": {
      "text/plain": [
       "(124569, 784)"
      ]
     },
     "execution_count": 70,
     "metadata": {},
     "output_type": "execute_result"
    }
   ],
   "source": [
    "data = np.load(\"full_numpy_bitmap_flamingo.npy\")\n",
    "data.shape"
   ]
  },
  {
   "cell_type": "code",
   "execution_count": 75,
   "metadata": {},
   "outputs": [],
   "source": [
    "import cv2"
   ]
  },
  {
   "cell_type": "code",
   "execution_count": 80,
   "metadata": {},
   "outputs": [
    {
     "data": {
      "image/png": "[encoded data removed]",
      "text/plain": [
       "<Figure size 576x144 with 8 Axes>"
      ]
     },
     "metadata": {
      "needs_background": "light"
     },
     "output_type": "display_data"
    }
   ],
   "source": [
    "plt.figure(figsize=(8,2))\n",
    "\n",
    "for i in range(8):\n",
    "    image = data[i+1000].reshape(28,28)\n",
    "    image = cv2.resize(image, dsize=(16, 16), interpolation=cv2.INTER_CUBIC)\n",
    "    plt.subplot(1,8,i+1)\n",
    "    plt.axis('off')\n",
    "    plt.imshow(image, cmap='gray')\n",
    "\n",
    "plt.show()"
   ]
  },
  {
   "cell_type": "code",
   "execution_count": 4,
   "metadata": {},
   "outputs": [
    {
     "data": {
      "image/png": "[encoded data removed]",
      "text/plain": [
       "<Figure size 576x144 with 8 Axes>"
      ]
     },
     "metadata": {
      "needs_background": "light"
     },
     "output_type": "display_data"
    }
   ],
   "source": [
    "plt.figure(figsize=(8,2))\n",
    "\n",
    "for i in range(8):\n",
    "    image = dataset[i][0].reshape(image_size,image_size)\n",
    "    plt.subplot(1,8,i+1)\n",
    "    plt.axis('off')\n",
    "    plt.imshow(image.numpy(), cmap='gray')\n",
    "\n",
    "plt.show()\n"
   ]
  },
  {
   "cell_type": "code",
   "execution_count": 45,
   "metadata": {},
   "outputs": [],
   "source": [
    "# classical discriminator\n",
    "class Discriminator(nn.Module):\n",
    "    \"\"\"Fully connected classical discriminator\"\"\"\n",
    "\n",
    "    def __init__(self):\n",
    "        super().__init__()\n",
    "\n",
    "        self.model = nn.Sequential(\n",
    "            # Inputs to first hidden layer (num_input_features -> 64)\n",
    "            nn.Linear(image_size * image_size, 64),\n",
    "            nn.ReLU(),\n",
    "            # First hidden layer (64 -> 16)\n",
    "            #nn.Linear(64, 16),\n",
    "            #nn.ReLU(),\n",
    "            # Second hidden layer (16 -> output)\n",
    "            nn.Linear(64, 1),\n",
    "            nn.Sigmoid(),\n",
    "        )\n",
    "\n",
    "    def forward(self, x):\n",
    "        return self.model(x)"
   ]
  },
  {
   "cell_type": "code",
   "execution_count": 81,
   "metadata": {},
   "outputs": [],
   "source": [
    "# Quantum variables\n",
    "n_qubits = 5  # Total number of qubits = N\n",
    "nq_full = 10\n",
    "n_a_qubits = 1  # Number of ancillary qubits = N_A\n",
    "q_depth = 10  # Depth of the parameterised quantum circuit = D\n",
    "n_generators = 16  # Number of subgenerators for the patch method = N_G"
   ]
  },
  {
   "cell_type": "code",
   "execution_count": 47,
   "metadata": {},
   "outputs": [],
   "source": [
    "# Quantum simulator\n",
    "dev = qml.device(\"lightning.qubit\", wires=nq_full)\n",
    "# Enable CUDA device if available\n",
    "device = torch.device(\"cuda:0\" if torch.cuda.is_available() else \"cpu\")"
   ]
  },
  {
   "cell_type": "code",
   "execution_count": 48,
   "metadata": {},
   "outputs": [],
   "source": [
    "# generator circuit\n",
    "@qml.qnode(dev, interface=\"torch\", diff_method=\"parameter-shift\")\n",
    "def quantum_circuit(noise, weights):\n",
    "\n",
    "    weights = weights.reshape(q_depth, n_qubits)\n",
    "\n",
    "    qml.Hadamard(wires=0)\n",
    "    qml.CNOT(wires=[0, 4])\n",
    "    # Initialise latent vectors\n",
    "    for i in range(n_qubits):\n",
    "        qml.RY(noise[i], wires=i)\n",
    "\n",
    "    \n",
    "    # Repeated layer\n",
    "    for i in range(q_depth):\n",
    "        # Parameterised layer\n",
    "        for y in range(n_qubits):\n",
    "            qml.RY(weights[i][y], wires=y)\n",
    "\n",
    "        # Control Z gates\n",
    "        for y in range(n_qubits - 1):\n",
    "            qml.CZ(wires=[y, y + 1])\n",
    "\n",
    "    return qml.probs(wires=list(range(n_qubits)))"
   ]
  },
  {
   "cell_type": "code",
   "execution_count": 49,
   "metadata": {},
   "outputs": [],
   "source": [
    "# Non linearity to output of generator\n",
    "# For further info on how the non-linear transform is implemented in Pennylane\n",
    "# https://discuss.pennylane.ai/t/ancillary-subsystem-measurement-then-trace-out/1532\n",
    "def partial_measure(noise, weights):\n",
    "    # Non-linear Transform\n",
    "    probs = quantum_circuit(noise, weights)\n",
    "    probsgiven0 = probs[: (2 ** (n_qubits - n_a_qubits))]\n",
    "    probsgiven0 /= torch.sum(probs)\n",
    "\n",
    "    # Post-Processing\n",
    "    probsgiven = probsgiven0 / torch.max(probsgiven0)\n",
    "    return probsgiven\n",
    "\n",
    "def nonlinearity(noise, weights):\n",
    "    \n",
    "    probs = quantum_circuit(noise, weights)\n",
    "    first = probs[: (2 ** (n_qubits - n_a_qubits))]\n",
    "    second = probs[(2 ** (n_qubits - n_a_qubits)):]\n",
    "    return torch.sigmoid(first + second)\n",
    "    "
   ]
  },
  {
   "cell_type": "code",
   "execution_count": 50,
   "metadata": {},
   "outputs": [],
   "source": [
    "class PatchQuantumGenerator(nn.Module):\n",
    "    \"\"\"Quantum generator class for the patch method\"\"\"\n",
    "\n",
    "    def __init__(self, n_generators, q_delta=1, do_partial_measure=True):\n",
    "        \"\"\"\n",
    "        Args:\n",
    "            n_generators (int): Number of sub-generators to be used in the patch method.\n",
    "            q_delta (float, optional): Spread of the random distribution for parameter initialisation.\n",
    "        \"\"\"\n",
    "\n",
    "        super().__init__()\n",
    "\n",
    "        self.do_partial_measure = do_partial_measure\n",
    "\n",
    "        # weights for generator in quantum circuit\n",
    "        self.q_params = nn.ParameterList(\n",
    "            [\n",
    "                nn.Parameter(q_delta * torch.rand(q_depth * n_qubits), requires_grad=True)\n",
    "                for _ in range(n_generators)\n",
    "            ]\n",
    "        )\n",
    "        self.n_generators = n_generators\n",
    "\n",
    "    def forward(self, x):\n",
    "        # Size of each sub-generator output\n",
    "        patch_size = 2 ** (n_qubits - n_a_qubits)\n",
    "\n",
    "        # Create a Tensor to 'catch' a batch of images from the for loop. x.size(0) is the batch size.\n",
    "        images = torch.Tensor(x.size(0), 0).to(device)\n",
    "\n",
    "        # Iterate over all sub-generators\n",
    "        for params in self.q_params:\n",
    "\n",
    "            # Create a Tensor to 'catch' a batch of the patches from a single sub-generator\n",
    "            patches = torch.Tensor(0, patch_size).to(device)\n",
    "            for elem in x:\n",
    "                # run generator circuit\n",
    "                if self.do_partial_measure:\n",
    "                    q_out = partial_measure(elem, params).float().unsqueeze(0)\n",
    "                else:\n",
    "                    q_out = nonlinearity(elem, params).float().unsqueeze(0)\n",
    "                patches = torch.cat((patches, q_out))\n",
    "\n",
    "            # Each batch of patches is concatenated with each other to create a batch of images\n",
    "            images = torch.cat((images, patches), 1)\n",
    "\n",
    "        return images\n"
   ]
  },
  {
   "cell_type": "code",
   "execution_count": 51,
   "metadata": {},
   "outputs": [],
   "source": [
    "class FullGenerator(nn.Module):\n",
    "    \"\"\"Quantum generator class for the patch method\"\"\"\n",
    "\n",
    "    def __init__(self, q_delta=1, do_partial_measure=True):\n",
    "        \"\"\"\n",
    "        Args:\n",
    "            n_generators (int): Number of sub-generators to be used in the patch method.\n",
    "            q_delta (float, optional): Spread of the random distribution for parameter initialisation.\n",
    "        \"\"\"\n",
    "\n",
    "        super().__init__()\n",
    "\n",
    "        self.do_partial_measure = do_partial_measure\n",
    "\n",
    "        # weights for generator in quantum circuit\n",
    "        self.q_params = nn.Parameter(q_delta * torch.rand(q_depth * nq_full), requires_grad=True)\n",
    "            \n",
    "\n",
    "    def forward(self, x):\n",
    "        # Size of each sub-generator output\n",
    "        patch_size = 2 ** (nq_full - n_a_qubits)\n",
    "\n",
    "        # Create a Tensor to 'catch' a batch of images from the for loop. x.size(0) is the batch size.\n",
    "        images = torch.Tensor(x.size(0), 0).to(device)\n",
    "\n",
    "        \n",
    "\n",
    "        # Create a Tensor to 'catch' a batch of the patches from a single sub-generator\n",
    "        patch = torch.Tensor(0, patch_size).to(device)\n",
    "        for elem in x:\n",
    "            # run generator circuit\n",
    "            if self.do_partial_measure:\n",
    "                q_out = partial_measure_full(elem, self.q_params).float().unsqueeze(0)\n",
    "            else:\n",
    "                q_out = nonlinearity(elem, self.q_params).float().unsqueeze(0)\n",
    "            patch = torch.cat((patch, q_out))\n",
    "\n",
    "        # Each batch of patches is concatenated with each other to create a batch of images\n",
    "        images = torch.cat((images, patch), 1)\n",
    "\n",
    "        return images\n"
   ]
  },
  {
   "cell_type": "code",
   "execution_count": 52,
   "metadata": {},
   "outputs": [],
   "source": [
    "# generator circuit\n",
    "@qml.qnode(dev, interface=\"torch\", diff_method=\"parameter-shift\")\n",
    "def quantum_circuit_full(noise, weights):\n",
    "\n",
    "    weights = weights.reshape(q_depth, nq_full)\n",
    "\n",
    "    \n",
    "    # Initialise latent vectors\n",
    "    for i in range(nq_full):\n",
    "        qml.RY(noise[i], wires=i)\n",
    "\n",
    "    \n",
    "    # Repeated layer\n",
    "    for i in range(q_depth):\n",
    "        # Parameterised layer\n",
    "        for y in range(nq_full):\n",
    "            qml.RY(weights[i][y], wires=y)\n",
    "\n",
    "        # Control Z gates\n",
    "        for y in range(nq_full - 1):\n",
    "            qml.CZ(wires=[y, y + 1])\n",
    "\n",
    "    return qml.probs(wires=list(range(nq_full)))\n",
    "\n",
    "\n",
    "def partial_measure_full(noise, weights):\n",
    "    # Non-linear Transform\n",
    "    probs = quantum_circuit_full(noise, weights)\n",
    "    probsgiven0 = probs[: (2 ** (nq_full - n_a_qubits))]\n",
    "    probsgiven0 /= torch.sum(probs)\n",
    "\n",
    "    # Post-Processing\n",
    "    probsgiven = probsgiven0 / torch.max(probsgiven0)\n",
    "    return probsgiven"
   ]
  },
  {
   "cell_type": "code",
   "execution_count": 53,
   "metadata": {},
   "outputs": [],
   "source": [
    "lrG = 0.3  # Learning rate for the generator\n",
    "lrD = 0.01  # Learning rate for the discriminator\n",
    "num_iter = 400  # Number of training iterations"
   ]
  },
  {
   "cell_type": "code",
   "execution_count": 54,
   "metadata": {},
   "outputs": [
    {
     "name": "stdout",
     "output_type": "stream",
     "text": [
      "Iteration: 10, Discriminator Loss: 1.334, Generator Loss: 0.638\n",
      "Iteration: 20, Discriminator Loss: 1.282, Generator Loss: 0.641\n",
      "Iteration: 30, Discriminator Loss: 1.240, Generator Loss: 0.647\n",
      "Iteration: 40, Discriminator Loss: 1.273, Generator Loss: 0.595\n",
      "Iteration: 50, Discriminator Loss: 1.137, Generator Loss: 0.634\n",
      "Iteration: 60, Discriminator Loss: 1.066, Generator Loss: 0.681\n",
      "Iteration: 70, Discriminator Loss: 1.082, Generator Loss: 0.677\n",
      "Iteration: 80, Discriminator Loss: 1.052, Generator Loss: 0.655\n",
      "Iteration: 90, Discriminator Loss: 1.095, Generator Loss: 0.638\n",
      "Iteration: 100, Discriminator Loss: 1.252, Generator Loss: 0.522\n",
      "Iteration: 110, Discriminator Loss: 1.116, Generator Loss: 0.637\n",
      "Iteration: 120, Discriminator Loss: 1.181, Generator Loss: 0.569\n",
      "Iteration: 130, Discriminator Loss: 1.015, Generator Loss: 0.665\n",
      "Iteration: 140, Discriminator Loss: 1.123, Generator Loss: 0.574\n",
      "Iteration: 150, Discriminator Loss: 0.910, Generator Loss: 0.758\n",
      "Iteration: 160, Discriminator Loss: 1.117, Generator Loss: 0.579\n",
      "Iteration: 170, Discriminator Loss: 0.976, Generator Loss: 0.686\n",
      "Iteration: 180, Discriminator Loss: 0.949, Generator Loss: 0.712\n",
      "Iteration: 190, Discriminator Loss: 0.837, Generator Loss: 0.802\n",
      "Iteration: 200, Discriminator Loss: 0.831, Generator Loss: 0.847\n",
      "Iteration: 210, Discriminator Loss: 0.823, Generator Loss: 0.863\n",
      "Iteration: 220, Discriminator Loss: 0.655, Generator Loss: 1.028\n",
      "Iteration: 230, Discriminator Loss: 0.771, Generator Loss: 0.835\n",
      "Iteration: 240, Discriminator Loss: 0.755, Generator Loss: 0.803\n",
      "Iteration: 250, Discriminator Loss: 0.639, Generator Loss: 0.972\n",
      "Iteration: 260, Discriminator Loss: 0.602, Generator Loss: 1.095\n",
      "Iteration: 270, Discriminator Loss: 0.527, Generator Loss: 1.186\n",
      "Iteration: 280, Discriminator Loss: 0.793, Generator Loss: 0.866\n",
      "Iteration: 290, Discriminator Loss: 0.746, Generator Loss: 0.956\n",
      "Iteration: 300, Discriminator Loss: 0.729, Generator Loss: 0.909\n",
      "Iteration: 310, Discriminator Loss: 0.563, Generator Loss: 1.096\n",
      "Iteration: 320, Discriminator Loss: 0.563, Generator Loss: 1.111\n",
      "Iteration: 330, Discriminator Loss: 0.455, Generator Loss: 1.271\n",
      "Iteration: 340, Discriminator Loss: 0.667, Generator Loss: 0.838\n",
      "Iteration: 350, Discriminator Loss: 0.432, Generator Loss: 1.286\n",
      "Iteration: 360, Discriminator Loss: 0.365, Generator Loss: 1.437\n",
      "Iteration: 370, Discriminator Loss: 0.474, Generator Loss: 1.248\n",
      "Iteration: 380, Discriminator Loss: 0.506, Generator Loss: 1.105\n",
      "Iteration: 390, Discriminator Loss: 0.444, Generator Loss: 1.297\n",
      "Iteration: 400, Discriminator Loss: 0.552, Generator Loss: 0.979\n"
     ]
    }
   ],
   "source": [
    "# training \n",
    "\n",
    "discriminator = Discriminator().to(device)\n",
    "#generator = PatchQuantumGenerator(n_generators, do_partial_measure=False).to(device)\n",
    "generator = FullGenerator().to(device)\n",
    "\n",
    "# Binary cross entropy\n",
    "criterion = nn.BCELoss()\n",
    "\n",
    "# Optimisers\n",
    "optD = optim.SGD(discriminator.parameters(), lr=lrD)\n",
    "optG = optim.SGD(generator.parameters(), lr=lrG)\n",
    "\n",
    "real_labels = torch.full((batch_size,), 1.0, dtype=torch.float, device=device)\n",
    "fake_labels = torch.full((batch_size,), 0.0, dtype=torch.float, device=device)\n",
    "\n",
    "# Fixed noise allows us to visually track the generated images throughout training\n",
    "fixed_noise = torch.rand(8, nq_full, device=device) * math.pi / 2\n",
    "\n",
    "# Iteration counter\n",
    "counter = 0\n",
    "\n",
    "# Collect images for plotting later\n",
    "results = []\n",
    "\n",
    "while True:\n",
    "    for i, (data, _) in enumerate(dataloader):\n",
    "\n",
    "        # Data for training the discriminator\n",
    "        data = data.reshape(-1, image_size * image_size)\n",
    "        real_data = data.to(device)\n",
    "\n",
    "        # Noise follwing a uniform distribution in range [0,pi/2)\n",
    "        noise = torch.rand(batch_size, nq_full, device=device) * math.pi / 2\n",
    "        fake_data = generator(noise)\n",
    "\n",
    "        # Training the discriminator\n",
    "        discriminator.zero_grad()\n",
    "        outD_real = discriminator(real_data).view(-1)\n",
    "        outD_fake = discriminator(fake_data.detach()).view(-1)\n",
    "\n",
    "        errD_real = criterion(outD_real, real_labels)\n",
    "        errD_fake = criterion(outD_fake, fake_labels)\n",
    "        # Propagate gradients\n",
    "        errD_real.backward()\n",
    "        errD_fake.backward()\n",
    "\n",
    "        errD = errD_real + errD_fake\n",
    "        optD.step()\n",
    "\n",
    "        # Training the generator\n",
    "        generator.zero_grad()\n",
    "        outD_fake = discriminator(fake_data).view(-1)\n",
    "        errG = criterion(outD_fake, real_labels)\n",
    "        errG.backward()\n",
    "        optG.step()\n",
    "\n",
    "        counter += 1\n",
    "\n",
    "        # Show loss values\n",
    "        if counter % 10 == 0:\n",
    "            print(f'Iteration: {counter}, Discriminator Loss: {errD:0.3f}, Generator Loss: {errG:0.3f}')\n",
    "            test_images = generator(fixed_noise).view(8,1,image_size,image_size).cpu().detach()\n",
    "\n",
    "            # Save images every 50 iterations\n",
    "            if counter % 50 == 0:\n",
    "                results.append(test_images)\n",
    "\n",
    "        if counter == num_iter:\n",
    "            break\n",
    "    if counter == num_iter:\n",
    "        break"
   ]
  },
  {
   "cell_type": "code",
   "execution_count": 55,
   "metadata": {},
   "outputs": [
    {
     "data": {
      "image/png": "[encoded data removed]",
      "text/plain": [
       "<Figure size 720x360 with 64 Axes>"
      ]
     },
     "metadata": {},
     "output_type": "display_data"
    }
   ],
   "source": [
    "fig = plt.figure(figsize=(10, 5))\n",
    "outer = gridspec.GridSpec(5, 2, wspace=0.1)\n",
    "\n",
    "for i, images in enumerate(results):\n",
    "    inner = gridspec.GridSpecFromSubplotSpec(1, images.size(0),\n",
    "                    subplot_spec=outer[i])\n",
    "\n",
    "    images = torch.squeeze(images, dim=1)\n",
    "    for j, im in enumerate(images):\n",
    "\n",
    "        ax = plt.Subplot(fig, inner[j])\n",
    "        ax.imshow(im.numpy(), cmap=\"gray\")\n",
    "        ax.set_xticks([])\n",
    "        ax.set_yticks([])\n",
    "        if j==0:\n",
    "            ax.set_title(f'Iteration {50+i*50}', loc='left')\n",
    "        fig.add_subplot(ax)\n",
    "\n",
    "plt.show()"
   ]
  },
  {
   "cell_type": "code",
   "execution_count": null,
   "metadata": {},
   "outputs": [],
   "source": []
  }
 ],
 "metadata": {
  "interpreter": {
   "hash": "dffca1b5596d46124560944223dced225ac144fb44c6e5e968084f48eb7fbb50"
  },
  "kernelspec": {
   "display_name": "Python 3.8.13 ('qc-penny')",
   "language": "python",
   "name": "python3"
  },
  "language_info": {
   "codemirror_mode": {
    "name": "ipython",
    "version": 3
   },
   "file_extension": ".py",
   "mimetype": "text/x-python",
   "name": "python",
   "nbconvert_exporter": "python",
   "pygments_lexer": "ipython3",
   "version": "3.8.13"
  },
  "orig_nbformat": 4
 },
 "nbformat": 4,
 "nbformat_minor": 2
}
